{
 "cells": [
  {
   "cell_type": "code",
   "execution_count": 1,
   "id": "0108de24",
   "metadata": {},
   "outputs": [],
   "source": [
    "# Import the libraries\n",
    "import pandas as pd\n",
    "import numpy as np\n",
    "import seaborn as sns\n",
    "import matplotlib.pyplot as plt"
   ]
  },
  {
   "cell_type": "code",
   "execution_count": 6,
   "id": "f3942f64",
   "metadata": {},
   "outputs": [],
   "source": [
    "# Import the dataset, drop observations with missing values\n",
    "cols = ['loan_amnt', 'int_rate', 'installment']\n",
    "data = pd.read_csv('./data/LendingClub_Issued_Loans/lc_loan.csv', usecols = cols).dropna()"
   ]
  },
  {
   "cell_type": "code",
   "execution_count": 8,
   "id": "394f436f",
   "metadata": {},
   "outputs": [
    {
     "name": "stdout",
     "output_type": "stream",
     "text": [
      "<class 'pandas.core.frame.DataFrame'>\n",
      "Int64Index: 887379 entries, 0 to 887378\n",
      "Data columns (total 3 columns):\n",
      " #   Column       Non-Null Count   Dtype  \n",
      "---  ------       --------------   -----  \n",
      " 0   loan_amnt    887379 non-null  float64\n",
      " 1   int_rate     887379 non-null  float64\n",
      " 2   installment  887379 non-null  float64\n",
      "dtypes: float64(3)\n",
      "memory usage: 27.1 MB\n"
     ]
    }
   ],
   "source": [
    "data.info()"
   ]
  },
  {
   "cell_type": "markdown",
   "id": "9abb6e9d",
   "metadata": {},
   "source": [
    "### Basic Analysis"
   ]
  },
  {
   "cell_type": "code",
   "execution_count": 9,
   "id": "7c0b7c46",
   "metadata": {},
   "outputs": [
    {
     "data": {
      "text/html": [
       "<div>\n",
       "<style scoped>\n",
       "    .dataframe tbody tr th:only-of-type {\n",
       "        vertical-align: middle;\n",
       "    }\n",
       "\n",
       "    .dataframe tbody tr th {\n",
       "        vertical-align: top;\n",
       "    }\n",
       "\n",
       "    .dataframe thead th {\n",
       "        text-align: right;\n",
       "    }\n",
       "</style>\n",
       "<table border=\"1\" class=\"dataframe\">\n",
       "  <thead>\n",
       "    <tr style=\"text-align: right;\">\n",
       "      <th></th>\n",
       "      <th>loan_amnt</th>\n",
       "      <th>int_rate</th>\n",
       "      <th>installment</th>\n",
       "    </tr>\n",
       "  </thead>\n",
       "  <tbody>\n",
       "    <tr>\n",
       "      <th>count</th>\n",
       "      <td>887379.000000</td>\n",
       "      <td>887379.000000</td>\n",
       "      <td>887379.000000</td>\n",
       "    </tr>\n",
       "    <tr>\n",
       "      <th>mean</th>\n",
       "      <td>14755.264605</td>\n",
       "      <td>13.246740</td>\n",
       "      <td>436.717127</td>\n",
       "    </tr>\n",
       "    <tr>\n",
       "      <th>std</th>\n",
       "      <td>8435.455601</td>\n",
       "      <td>4.381867</td>\n",
       "      <td>244.186593</td>\n",
       "    </tr>\n",
       "    <tr>\n",
       "      <th>min</th>\n",
       "      <td>500.000000</td>\n",
       "      <td>5.320000</td>\n",
       "      <td>15.670000</td>\n",
       "    </tr>\n",
       "    <tr>\n",
       "      <th>25%</th>\n",
       "      <td>8000.000000</td>\n",
       "      <td>9.990000</td>\n",
       "      <td>260.705000</td>\n",
       "    </tr>\n",
       "    <tr>\n",
       "      <th>50%</th>\n",
       "      <td>13000.000000</td>\n",
       "      <td>12.990000</td>\n",
       "      <td>382.550000</td>\n",
       "    </tr>\n",
       "    <tr>\n",
       "      <th>75%</th>\n",
       "      <td>20000.000000</td>\n",
       "      <td>16.200000</td>\n",
       "      <td>572.600000</td>\n",
       "    </tr>\n",
       "    <tr>\n",
       "      <th>max</th>\n",
       "      <td>35000.000000</td>\n",
       "      <td>28.990000</td>\n",
       "      <td>1445.460000</td>\n",
       "    </tr>\n",
       "  </tbody>\n",
       "</table>\n",
       "</div>"
      ],
      "text/plain": [
       "           loan_amnt       int_rate    installment\n",
       "count  887379.000000  887379.000000  887379.000000\n",
       "mean    14755.264605      13.246740     436.717127\n",
       "std      8435.455601       4.381867     244.186593\n",
       "min       500.000000       5.320000      15.670000\n",
       "25%      8000.000000       9.990000     260.705000\n",
       "50%     13000.000000      12.990000     382.550000\n",
       "75%     20000.000000      16.200000     572.600000\n",
       "max     35000.000000      28.990000    1445.460000"
      ]
     },
     "execution_count": 9,
     "metadata": {},
     "output_type": "execute_result"
    }
   ],
   "source": [
    "data.describe()"
   ]
  },
  {
   "cell_type": "markdown",
   "id": "85de0c36",
   "metadata": {},
   "source": [
    "The different variables present different value ranges, therefore different magnitudes. Not only the minimum and maximum values are different, but they also spread over ranges of different widths."
   ]
  },
  {
   "cell_type": "markdown",
   "id": "356e2d4e",
   "metadata": {},
   "source": [
    "### Standardization (Standard Scalar):"
   ]
  },
  {
   "cell_type": "markdown",
   "id": "c91cf822",
   "metadata": {},
   "source": [
    "Standardization (or Z-score normalization) means centering the variable at zero and standardizing the variance at 1. The procedure involves subtracting the mean of each observation and then dividing by the standard deviation."
   ]
  },
  {
   "cell_type": "markdown",
   "id": "923dd779",
   "metadata": {},
   "source": [
    "StandardScaler from sci-kit-learn removes the mean and scales the data to unit variance. We can import the StandardScalar method from sci-kit learn and apply it to our dataset."
   ]
  },
  {
   "cell_type": "code",
   "execution_count": 10,
   "id": "67b06fb1",
   "metadata": {},
   "outputs": [],
   "source": [
    "from sklearn.preprocessing import StandardScaler\n",
    "\n",
    "scaler = StandardScaler()\n",
    "data_scaled = scaler.fit_transform(data)"
   ]
  },
  {
   "cell_type": "code",
   "execution_count": 11,
   "id": "772cc803",
   "metadata": {},
   "outputs": [
    {
     "name": "stdout",
     "output_type": "stream",
     "text": [
      "[ 7.27694974e-17 -2.88579741e-16 -4.23036761e-16]\n",
      "[1. 1. 1.]\n"
     ]
    }
   ],
   "source": [
    "print(data_scaled.mean(axis=0))\n",
    "print(data_scaled.std(axis=0))"
   ]
  },
  {
   "cell_type": "markdown",
   "id": "dc2e1c0f",
   "metadata": {},
   "source": [
    "As expected, the mean of each variable is now around zero and the standard deviation is set to 1. Thus, all the variable values lie within the same range."
   ]
  },
  {
   "cell_type": "code",
   "execution_count": 12,
   "id": "e8e8a39b",
   "metadata": {},
   "outputs": [
    {
     "name": "stdout",
     "output_type": "stream",
     "text": [
      "Min values (Loan Amount, Int rate and Installment):  [-1.68992326 -1.80898767 -1.72428535]\n",
      "Max values (Loan Amount, Int rate and Installment):  [2.39995891 3.5928219  4.13103531]\n"
     ]
    }
   ],
   "source": [
    "print('Min values (Loan Amount, Int rate and Installment): ', data_scaled.min(axis=0))\n",
    "print('Max values (Loan Amount, Int rate and Installment): ', data_scaled.max(axis=0))"
   ]
  },
  {
   "cell_type": "markdown",
   "id": "1d633be2",
   "metadata": {},
   "source": [
    "However, the minimum and maximum values vary according to how spread out the variable was, to begin with, and is highly influenced by the presence of outliers."
   ]
  },
  {
   "cell_type": "markdown",
   "id": "649dc72b",
   "metadata": {},
   "source": [
    "### Normalization (Min-Max Scalar):"
   ]
  },
  {
   "cell_type": "markdown",
   "id": "9eccf568",
   "metadata": {},
   "source": [
    "In this approach, the data is scaled to a fixed range — usually 0 to 1.\n",
    "In contrast to standardization, the cost of having this bounded range is that we will end up with smaller standard deviations, which can suppress the effect of outliers. Thus MinMax Scalar is sensitive to outliers."
   ]
  },
  {
   "attachments": {},
   "cell_type": "markdown",
   "id": "4f7a18f7",
   "metadata": {},
   "source": [
    "A Min-Max scaling is typically done via the following equation:\n",
    "\n",
    "    X_norm = (X - X_min) / (X_mx - X_min)"
   ]
  },
  {
   "cell_type": "code",
   "execution_count": 13,
   "id": "09668918",
   "metadata": {},
   "outputs": [],
   "source": [
    "from sklearn.preprocessing import MinMaxScaler\n",
    "\n",
    "scaler = MinMaxScaler()\n",
    "data_scaled = scaler.fit_transform(data)"
   ]
  },
  {
   "cell_type": "code",
   "execution_count": 14,
   "id": "fbeedc32",
   "metadata": {},
   "outputs": [
    {
     "name": "stdout",
     "output_type": "stream",
     "text": [
      "means (Loan Amount, Int rate and Installment):  [0.41319608 0.3348855  0.2944818 ]\n",
      "std (Loan Amount, Int rate and Installment):  [0.24450582 0.18512315 0.17078484]\n"
     ]
    }
   ],
   "source": [
    "print('means (Loan Amount, Int rate and Installment): ', data_scaled.mean(axis=0))\n",
    "print('std (Loan Amount, Int rate and Installment): ', data_scaled.std(axis=0))"
   ]
  },
  {
   "cell_type": "markdown",
   "id": "2efefb13",
   "metadata": {},
   "source": [
    "After MinMaxScaling, the distributions are not centered at zero and the standard deviation is not 1."
   ]
  },
  {
   "cell_type": "code",
   "execution_count": 15,
   "id": "93bfedab",
   "metadata": {},
   "outputs": [
    {
     "name": "stdout",
     "output_type": "stream",
     "text": [
      "Min (Loan Amount, Int rate and Installment):  [0. 0. 0.]\n",
      "Max (Loan Amount, Int rate and Installment):  [1. 1. 1.]\n"
     ]
    }
   ],
   "source": [
    "print('Min (Loan Amount, Int rate and Installment): ', data_scaled.min(axis=0))\n",
    "print('Max (Loan Amount, Int rate and Installment): ', data_scaled.max(axis=0))"
   ]
  },
  {
   "cell_type": "markdown",
   "id": "600667e5",
   "metadata": {},
   "source": [
    "But the minimum and maximum values are standardized across variables, different from what occurs with standardization."
   ]
  },
  {
   "cell_type": "markdown",
   "id": "d65612c3",
   "metadata": {},
   "source": [
    "### Robust Scalar (Scaling to median and quantiles):"
   ]
  },
  {
   "cell_type": "markdown",
   "id": "96c3cb8f",
   "metadata": {},
   "source": [
    "Scaling using median and quantiles consists of subtracting the median to all the observations and then dividing by the interquartile difference. It Scales features using statistics that are robust to outliers."
   ]
  },
  {
   "cell_type": "markdown",
   "id": "93b22225",
   "metadata": {},
   "source": [
    "The interquartile difference is the difference between the 75th and 25th quantile:\n",
    "    `IQR = 75th quantile - 25th quantile`"
   ]
  },
  {
   "cell_type": "markdown",
   "id": "cf903680",
   "metadata": {},
   "source": [
    "The equation to calculate scaled values: `X_scaled = (X - X.median) / IQR`"
   ]
  },
  {
   "cell_type": "code",
   "execution_count": 16,
   "id": "bc12a951",
   "metadata": {},
   "outputs": [],
   "source": [
    "from sklearn.preprocessing import RobustScaler\n",
    "\n",
    "scaler = RobustScaler() \n",
    "data_scaled = scaler.fit_transform(data)"
   ]
  },
  {
   "cell_type": "code",
   "execution_count": 17,
   "id": "bf447183",
   "metadata": {},
   "outputs": [
    {
     "name": "stdout",
     "output_type": "stream",
     "text": [
      "means (Loan Amount, Int rate and Installment):  [0.14627205 0.04134294 0.17367103]\n",
      "std (Loan Amount, Int rate and Installment):  [0.70295424 0.70561432 0.78291238]\n"
     ]
    }
   ],
   "source": [
    "print('means (Loan Amount, Int rate and Installment): ', data_scaled.mean(axis=0))\n",
    "print('std (Loan Amount, Int rate and Installment): ', data_scaled.std(axis=0))"
   ]
  },
  {
   "cell_type": "markdown",
   "id": "c9082bfc",
   "metadata": {},
   "source": [
    "The distributions are not centered in zero and the standard deviation is not 1."
   ]
  },
  {
   "cell_type": "code",
   "execution_count": 18,
   "id": "b18a0a97",
   "metadata": {},
   "outputs": [
    {
     "name": "stdout",
     "output_type": "stream",
     "text": [
      "Min (Loan Amount, Int rate and Installment):  [-1.04166667 -1.23510467 -1.1762933 ]\n",
      "Max (Loan Amount, Int rate and Installment):  [1.83333333 2.57648953 3.40790971]\n"
     ]
    }
   ],
   "source": [
    "print('Min (Loan Amount, Int rate and Installment): ', data_scaled.min(axis=0))\n",
    "print('Max (Loan Amount, Int rate and Installment): ', data_scaled.max(axis=0))"
   ]
  },
  {
   "cell_type": "markdown",
   "id": "8d3d0448",
   "metadata": {},
   "source": [
    "Neither are the minimum and maximum values set to a certain upper and lower boundaries like in the MinMaxScaler."
   ]
  },
  {
   "cell_type": "code",
   "execution_count": null,
   "id": "263a718d",
   "metadata": {},
   "outputs": [],
   "source": []
  }
 ],
 "metadata": {
  "kernelspec": {
   "display_name": "Python 3 (ipykernel)",
   "language": "python",
   "name": "python3"
  },
  "language_info": {
   "codemirror_mode": {
    "name": "ipython",
    "version": 3
   },
   "file_extension": ".py",
   "mimetype": "text/x-python",
   "name": "python",
   "nbconvert_exporter": "python",
   "pygments_lexer": "ipython3",
   "version": "3.8.12"
  }
 },
 "nbformat": 4,
 "nbformat_minor": 5
}
